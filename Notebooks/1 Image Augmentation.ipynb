{
 "cells": [
  {
   "cell_type": "markdown",
   "metadata": {},
   "source": [
    "## This notebook processes the training images to augment the dataset\n",
    "#### (The processing includes resizing, and augmentation of the images (by applying rotations, flipping etc.))"
   ]
  },
  {
   "cell_type": "markdown",
   "metadata": {},
   "source": [
    "## 1) Setting up access to watson data assets"
   ]
  },
  {
   "cell_type": "markdown",
   "metadata": {},
   "source": [
    "#### Insert project token"
   ]
  },
  {
   "cell_type": "code",
   "execution_count": 1,
   "metadata": {},
   "outputs": [],
   "source": [
    "# @hidden_cell\n",
    "# The project token is an authorization token that is used to access project resources like data sources, connections, and used by platform APIs.\n",
    "from project_lib import Project\n",
    "project = Project(project_id='fbb84b2e-f008-4583-851a-fb0a45856e38', project_access_token='p-651e508bfb830754df7129d064d40f7a5f292653')\n",
    "pc = project.project_context\n"
   ]
  },
  {
   "cell_type": "markdown",
   "metadata": {},
   "source": [
    "#### Get Project Data Assets"
   ]
  },
  {
   "cell_type": "code",
   "execution_count": 8,
   "metadata": {},
   "outputs": [
    {
     "name": "stdout",
     "output_type": "stream",
     "text": [
      "['Rebar Go Cropped.zip', 'Rebar No Go Cropped.zip']\n"
     ]
    }
   ],
   "source": [
    "#CHECK THIS CELL BEFORE RUNNING\n",
    "\n",
    "data_assets = project.get_assets(asset_type='data_asset')\n",
    "# print(data_assets)\n",
    "\n",
    "# Enter the letters to help further filtering of files: Eg. \"BA\", or \"_go_\", or \"Rebar\"\n",
    "searchfilter = \"Rebar\"\n",
    "\n",
    "filenames = [file['name'] for file in data_assets if searchfilter in file['name']]\n",
    "print(filenames)"
   ]
  },
  {
   "cell_type": "markdown",
   "metadata": {},
   "source": [
    "#### Extract Zip Files"
   ]
  },
  {
   "cell_type": "code",
   "execution_count": 10,
   "metadata": {},
   "outputs": [],
   "source": [
    "import zipfile\n",
    "import os\n",
    "\n",
    "cwd = \"/home/dsxuser/work\"\n",
    "\n",
    "def get_zip(file_name):\n",
    "    '''\n",
    "    file_name = Name of zip file you want to download from object storage\n",
    "    '''\n",
    "    os.chdir(cwd)\n",
    "    folder = file_name.split(\".\")[0]\n",
    "    os.mkdir(folder)\n",
    "    os.chdir(folder)\n",
    "\n",
    "    try:\n",
    "        fobj = open(file_name, \"wb\")\n",
    "        fobj.write(project.get_file(file_name).read()) \n",
    "        fobj.close()\n",
    "        z = zipfile.ZipFile(file_name)\n",
    "        z.extractall()\n",
    "    except Exception as e:\n",
    "        print(Exception,e)\n",
    "    else:\n",
    "        print('Files downloaded successfully') \n",
    "\n",
    "## EXTRACT ALL ZIP FOLDERS\n",
    "for filename in filenames:\n",
    "    get_zip(filename)"
   ]
  },
  {
   "cell_type": "markdown",
   "metadata": {},
   "source": [
    "## 2) Process the Images"
   ]
  },
  {
   "cell_type": "markdown",
   "metadata": {},
   "source": [
    "#### Processing steps: Resize, Horizontal flip, Vertical Flip, Rotation by 15,30,45,60,74,90 degrees"
   ]
  },
  {
   "cell_type": "code",
   "execution_count": 41,
   "metadata": {},
   "outputs": [],
   "source": [
    "import numpy as np\n",
    "import shutil\n",
    "import math\n",
    "import cv2\n",
    "import os\n",
    "\n",
    "\n",
    "##ROTATE IMAGES\n",
    "def rotateImages(imgs): #NOTE: imgs needs to be a list of images\n",
    "    angles = [15,30,45,60,75,90] #Angles of rotation\n",
    "    rotated_images = []\n",
    "    \n",
    "    for img in imgs:   \n",
    "        height, width = img.shape[:2]\n",
    "        image_center = (width / 2, height / 2)\n",
    "        scale = 1\n",
    "        \n",
    "        for angle in angles:\n",
    "            \n",
    "            rotation_mat = cv2.getRotationMatrix2D(image_center, angle, scale)\n",
    "\n",
    "            radians = math.radians(angle)\n",
    "            sin = math.sin(radians)\n",
    "            cos = math.cos(radians)\n",
    "            bound_w = int((height * abs(sin)) + (width * abs(cos)))\n",
    "            bound_h = int((height * abs(cos)) + (width * abs(sin)))\n",
    "\n",
    "            rotation_mat[0, 2] += ((bound_w / 2) - image_center[0])\n",
    "            rotation_mat[1, 2] += ((bound_h / 2) - image_center[1])\n",
    "\n",
    "            rotated_images.append(cv2.warpAffine(img, rotation_mat, (bound_w, bound_h),\n",
    "                                                borderMode=cv2.BORDER_CONSTANT,\n",
    "                                                borderValue=(255,255,255)))\n",
    "    return rotated_images\n",
    "\n",
    "\n",
    "## SAVE IMAGES TO ANOTHER FOLDER\n",
    "\n",
    "## imgs = images to be saved, newdirname = new directory name to save the files, filepath is the image path\n",
    "\n",
    "def saveImages(imgs,newdirname,filepath):\n",
    "    cwd = \"/home/dsxuser/work\" #Current Working Directory\n",
    "    for i,img in enumerate(imgs):\n",
    "        filename    = os.path.basename(filepath).split(\".\")[0]\n",
    "        filename    = \"T_\"+filename+\"_\"+str(i)+\".png\" #File name logic\n",
    "        \n",
    "        \n",
    "        newfilepath  =  cwd+\"/\"+newdirname+\"/\"+filename\n",
    "        cv2.imwrite(newfilepath, img)\n",
    "        \n",
    "## UPLOAD DATA TO CLOUD OBJECT STORAGE (COS)\n",
    "def uploadData(file):\n",
    "    os.chdir(\"/home/dsxuser/work\")\n",
    "    dirpath = cwd+\"/\"+file\n",
    "    print(dirpath)\n",
    "    shutil.make_archive(dirpath,'zip',dirpath) #ZIP FILES\n",
    "    \n",
    "    #Save data to COS\n",
    "    name = file+\".zip\"\n",
    "    file_data=open(name, 'rb')\n",
    "    project.save_data(data=file_data.read(),file_name=name,overwrite=True)\n",
    "    file_data.close()\n",
    "    \n",
    "       \n",
    "def processImages(dirpath): #dirpath = directory path of images \n",
    "    \n",
    "    newdirname = \"BA_\"+\"T_\"+os.path.basename(dirpath) #Setup folder naming logic as needed\n",
    "    newdirpath = cwd+\"/\"+newdirname\n",
    "    os.chdir(cwd)\n",
    "    os.mkdir(newdirpath)\n",
    "    \n",
    "    files = [dirpath+\"/\"+item for item in os.listdir(dirpath) if \".png\" in item]\n",
    "    files = np.array(files)\n",
    "    \n",
    "    for filepath in files:\n",
    "        img = cv2.imread(filepath)\n",
    "\n",
    "        # 1) Flip Image -Vertical\n",
    "        flip_v = np.flip(img,0)\n",
    "\n",
    "        # 3) Flip Image -Horizontal\n",
    "        flip_h = np.flip(img,0)\n",
    "\n",
    "#         # 4) Rotate Image (by affine transform)\n",
    "        imgs = [img,flip_v,flip_h]\n",
    "        rotated_images = rotateImages(imgs)\n",
    "\n",
    "        transformed_images = [*imgs,*rotated_images]\n",
    "        \n",
    "        #Save Images to Local Storage\n",
    "        saveImages(transformed_images,newdirname,filepath)\n",
    "    \n",
    "    #Upload data to Cloud Object Storage\n",
    "    uploadData(newdirname)\n",
    "\n",
    "    print(\"SUCCESS\")\n",
    "        \n",
    "        "
   ]
  },
  {
   "cell_type": "code",
   "execution_count": 1,
   "metadata": {
    "scrolled": true
   },
   "outputs": [],
   "source": [
    "#list of folders to process\n",
    "\n",
    "alldirs = [file for file in os.listdir(cwd) if \".zip\" not in file] \n",
    "\n",
    "for dirname in alldirs:\n",
    "    dirpath = cwd+\"/\"+dirname\n",
    "    processImages(dirpath)"
   ]
  }
 ],
 "metadata": {
  "kernelspec": {
   "display_name": "Python 3",
   "language": "python",
   "name": "python3"
  },
  "language_info": {
   "codemirror_mode": {
    "name": "ipython",
    "version": 3
   },
   "file_extension": ".py",
   "mimetype": "text/x-python",
   "name": "python",
   "nbconvert_exporter": "python",
   "pygments_lexer": "ipython3",
   "version": "3.7.7"
  }
 },
 "nbformat": 4,
 "nbformat_minor": 1
}
